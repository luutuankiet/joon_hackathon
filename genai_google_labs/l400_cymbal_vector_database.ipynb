{
  "cells": [
    {
      "cell_type": "code",
      "execution_count": 1,
      "id": "y4xHISMnShpEoZLi6dXPphpJ",
      "metadata": {
        "colab": {
          "base_uri": "https://localhost:8080/"
        },
        "executionInfo": {
          "elapsed": 48664,
          "status": "ok",
          "timestamp": 1735575975981,
          "user": {
            "displayName": "",
            "userId": ""
          },
          "user_tz": -420
        },
        "id": "y4xHISMnShpEoZLi6dXPphpJ",
        "outputId": "75cd74dc-cfb1-4da8-b9eb-16f96864afce",
        "tags": []
      },
      "outputs": [
        {
          "name": "stdout",
          "output_type": "stream",
          "text": [
            "\u001b[2K     \u001b[90m━━━━━━━━━━━━━━━━━━━━━━━━━━━━━━━━━━━━━━━━\u001b[0m \u001b[32m149.4/149.4 kB\u001b[0m \u001b[31m7.8 MB/s\u001b[0m eta \u001b[36m0:00:00\u001b[0m\n",
            "\u001b[2K   \u001b[90m━━━━━━━━━━━━━━━━━━━━━━━━━━━━━━━━━━━━━━━━\u001b[0m \u001b[32m6.9/6.9 MB\u001b[0m \u001b[31m60.1 MB/s\u001b[0m eta \u001b[36m0:00:00\u001b[0m\n",
            "\u001b[2K   \u001b[90m━━━━━━━━━━━━━━━━━━━━━━━━━━━━━━━━━━━━━━━━\u001b[0m \u001b[32m1.0/1.0 MB\u001b[0m \u001b[31m50.1 MB/s\u001b[0m eta \u001b[36m0:00:00\u001b[0m\n",
            "\u001b[2K   \u001b[90m━━━━━━━━━━━━━━━━━━━━━━━━━━━━━━━━━━━━━━━━\u001b[0m \u001b[32m90.4/90.4 kB\u001b[0m \u001b[31m7.7 MB/s\u001b[0m eta \u001b[36m0:00:00\u001b[0m\n",
            "\u001b[2K   \u001b[90m━━━━━━━━━━━━━━━━━━━━━━━━━━━━━━━━━━━━━━━━\u001b[0m \u001b[32m2.5/2.5 MB\u001b[0m \u001b[31m42.2 MB/s\u001b[0m eta \u001b[36m0:00:00\u001b[0m\n",
            "\u001b[2K   \u001b[90m━━━━━━━━━━━━━━━━━━━━━━━━━━━━━━━━━━━━━━━━\u001b[0m \u001b[32m209.2/209.2 kB\u001b[0m \u001b[31m18.2 MB/s\u001b[0m eta \u001b[36m0:00:00\u001b[0m\n",
            "\u001b[2K   \u001b[90m━━━━━━━━━━━━━━━━━━━━━━━━━━━━━━━━━━━━━━━━\u001b[0m \u001b[32m20.0/20.0 MB\u001b[0m \u001b[31m59.5 MB/s\u001b[0m eta \u001b[36m0:00:00\u001b[0m\n",
            "\u001b[2K   \u001b[90m━━━━━━━━━━━━━━━━━━━━━━━━━━━━━━━━━━━━━━━━\u001b[0m \u001b[32m131.8/131.8 kB\u001b[0m \u001b[31m12.5 MB/s\u001b[0m eta \u001b[36m0:00:00\u001b[0m\n",
            "\u001b[2K   \u001b[90m━━━━━━━━━━━━━━━━━━━━━━━━━━━━━━━━━━━━━━━━\u001b[0m \u001b[32m76.4/76.4 kB\u001b[0m \u001b[31m7.5 MB/s\u001b[0m eta \u001b[36m0:00:00\u001b[0m\n",
            "\u001b[2K   \u001b[90m━━━━━━━━━━━━━━━━━━━━━━━━━━━━━━━━━━━━━━━━\u001b[0m \u001b[32m411.6/411.6 kB\u001b[0m \u001b[31m29.2 MB/s\u001b[0m eta \u001b[36m0:00:00\u001b[0m\n",
            "\u001b[2K   \u001b[90m━━━━━━━━━━━━━━━━━━━━━━━━━━━━━━━━━━━━━━━━\u001b[0m \u001b[32m434.9/434.9 kB\u001b[0m \u001b[31m28.1 MB/s\u001b[0m eta \u001b[36m0:00:00\u001b[0m\n",
            "\u001b[2K   \u001b[90m━━━━━━━━━━━━━━━━━━━━━━━━━━━━━━━━━━━━━━━━\u001b[0m \u001b[32m2.1/2.1 MB\u001b[0m \u001b[31m53.8 MB/s\u001b[0m eta \u001b[36m0:00:00\u001b[0m\n",
            "\u001b[2K   \u001b[90m━━━━━━━━━━━━━━━━━━━━━━━━━━━━━━━━━━━━━━━━\u001b[0m \u001b[32m49.3/49.3 kB\u001b[0m \u001b[31m4.4 MB/s\u001b[0m eta \u001b[36m0:00:00\u001b[0m\n",
            "\u001b[?25h"
          ]
        }
      ],
      "source": [
        "!pip install --quiet --upgrade google_cloud_firestore google_cloud_aiplatform langchain langchain-google-vertexai langchain_community langchain_experimental pymupdf"
      ]
    },
    {
      "cell_type": "code",
      "execution_count": 1,
      "id": "B4b10yEiYXSE",
      "metadata": {
        "executionInfo": {
          "elapsed": 9090,
          "status": "ok",
          "timestamp": 1735576009421,
          "user": {
            "displayName": "",
            "userId": ""
          },
          "user_tz": -420
        },
        "id": "B4b10yEiYXSE"
      },
      "outputs": [],
      "source": [
        "import vertexai\n",
        "from vertexai.language_models import TextEmbeddingModel\n",
        "from vertexai.generative_models import GenerativeModel\n",
        "\n",
        "import pickle\n",
        "from IPython.display import display, Markdown\n",
        "\n",
        "from langchain_google_vertexai import VertexAIEmbeddings\n",
        "from langchain_community.document_loaders import PyMuPDFLoader\n",
        "from langchain_experimental.text_splitter import SemanticChunker\n",
        "\n",
        "from google.cloud import firestore\n",
        "from google.cloud.firestore_v1.vector import Vector\n",
        "from google.cloud.firestore_v1.base_vector_query import DistanceMeasure"
      ]
    },
    {
      "cell_type": "code",
      "execution_count": 2,
      "id": "R_DW-9YGYeks",
      "metadata": {
        "colab": {
          "base_uri": "https://localhost:8080/"
        },
        "executionInfo": {
          "elapsed": 2685,
          "status": "ok",
          "timestamp": 1735576013385,
          "user": {
            "displayName": "",
            "userId": ""
          },
          "user_tz": -420
        },
        "id": "R_DW-9YGYeks",
        "outputId": "16ad6795-3480-4bda-bb27-d1f675835576"
      },
      "outputs": [
        {
          "name": "stdout",
          "output_type": "stream",
          "text": [
            "qwiklabs-gcp-01-13a2450742aa\n"
          ]
        }
      ],
      "source": [
        "# Initialize Vertex AI with your project-id and a location\n",
        "PROJECT_ID = ! gcloud config get-value project\n",
        "PROJECT_ID = PROJECT_ID[0]\n",
        "LOCATION = \"us-central1\" # @param {type:\"string\"}\n",
        "print(PROJECT_ID)\n",
        "vertexai.init(project=PROJECT_ID, location=LOCATION)"
      ]
    },
    {
      "cell_type": "code",
      "execution_count": 3,
      "id": "E79aTYafYhWb",
      "metadata": {
        "executionInfo": {
          "elapsed": 2,
          "status": "ok",
          "timestamp": 1735576013385,
          "user": {
            "displayName": "",
            "userId": ""
          },
          "user_tz": -420
        },
        "id": "E79aTYafYhWb"
      },
      "outputs": [],
      "source": [
        "# Populate a variable named embedding_model with an instance of the\n",
        "# langchain_google_vertexai class VertexAIEmbeddings.\n",
        "from langchain_google_vertexai import VertexAIEmbeddings\n",
        "embedding_model = VertexAIEmbeddings(model_name=\"text-embedding-004\")"
      ]
    },
    {
      "cell_type": "markdown",
      "id": "VXfJpmLXYqw7",
      "metadata": {
        "id": "VXfJpmLXYqw7"
      },
      "source": [
        "# Download, process and chunk data semantically"
      ]
    },
    {
      "cell_type": "code",
      "execution_count": 6,
      "id": "h8DXzY4PYnBP",
      "metadata": {
        "colab": {
          "base_uri": "https://localhost:8080/"
        },
        "executionInfo": {
          "elapsed": 1846,
          "status": "ok",
          "timestamp": 1735576066736,
          "user": {
            "displayName": "",
            "userId": ""
          },
          "user_tz": -420
        },
        "id": "h8DXzY4PYnBP",
        "outputId": "408acc99-39ff-4f13-de59-f58c4f3f3730"
      },
      "outputs": [
        {
          "name": "stdout",
          "output_type": "stream",
          "text": [
            "Copying gs://partner-genai-bucket/genai069/nyc_food_safety_manual.pdf to file://./nyc_food_safety_manual.pdf\n",
            "\n",
            "Average throughput: 150.8MiB/s\n"
          ]
        }
      ],
      "source": [
        "# Download the New York City Department of Health and Mental Hygiene's Food\n",
        "# Protection Training Manual. This document will serve as our RAG source content.\n",
        "!gcloud storage cp gs://partner-genai-bucket/genai069/nyc_food_safety_manual.pdf ."
      ]
    },
    {
      "cell_type": "code",
      "execution_count": 7,
      "id": "tY1a2CXzY2Bw",
      "metadata": {
        "executionInfo": {
          "elapsed": 657,
          "status": "ok",
          "timestamp": 1735576069491,
          "user": {
            "displayName": "",
            "userId": ""
          },
          "user_tz": -420
        },
        "id": "tY1a2CXzY2Bw"
      },
      "outputs": [],
      "source": [
        "# https://python.langchain.com/v0.1/docs/modules/data_connection/document_loaders/pdf/#using-pymupdf\n",
        "# Use the LangChain class PyMuPDFLoader to load the contents of the PDF\n",
        "from langchain_community.document_loaders import PyMuPDFLoader\n",
        "loader = PyMuPDFLoader(\"./nyc_food_safety_manual.pdf\")\n",
        "data = loader.load()"
      ]
    },
    {
      "cell_type": "code",
      "execution_count": 8,
      "id": "nHk4UyZzY9aT",
      "metadata": {
        "executionInfo": {
          "elapsed": 3,
          "status": "ok",
          "timestamp": 1735576071667,
          "user": {
            "displayName": "",
            "userId": ""
          },
          "user_tz": -420
        },
        "id": "nHk4UyZzY9aT"
      },
      "outputs": [],
      "source": [
        "# Create a function to do some basic cleaning on artifacts found in this particular document.\n",
        "def clean_page(page):\n",
        "  return page.page_content.replace(\"-\\n\",\"\")\\\n",
        "                          .replace(\"\\n\",\" \")\\\n",
        "                          .replace(\"\\x02\",\"\")\\\n",
        "                          .replace(\"\\x03\",\"\")\\\n",
        "                          .replace(\"fo d P R O T E C T I O N  T R A I N I N G  M A N U A L\",\"\")\\\n",
        "                          .replace(\"N E W  Y O R K  C I T Y  D E P A R T M E N T  O F  H E A L T H  &  M E N T A L  H Y G I E N E\",\"\")\n",
        "\n",
        "# Create a variable called cleaned_pages that is a list of strings, with each string being a page of content cleaned by above function.\n",
        "cleaned_pages = []\n",
        "for pages in data:\n",
        "  cleaned_pages.append(clean_page(pages))"
      ]
    },
    {
      "cell_type": "code",
      "execution_count": 9,
      "id": "adf3CD-JZI-k",
      "metadata": {
        "executionInfo": {
          "elapsed": 1676,
          "status": "ok",
          "timestamp": 1735576075215,
          "user": {
            "displayName": "",
            "userId": ""
          },
          "user_tz": -420
        },
        "id": "adf3CD-JZI-k"
      },
      "outputs": [],
      "source": [
        "# Use LangChain's SemanticChunker with the embedding_model created earlier to split the first five pages of cleaned_pages into text chunks.\n",
        "# https://python.langchain.com/v0.2/docs/how_to/semantic-chunker/#create-text-splitter\n",
        "text_splitter = SemanticChunker(embedding_model)\n",
        "docs = text_splitter.create_documents(cleaned_pages[0:4])\n",
        "chunked_content = [doc.page_content for doc in docs]"
      ]
    },
    {
      "cell_type": "code",
      "execution_count": 10,
      "id": "zcU3Z8dMZUq6",
      "metadata": {
        "executionInfo": {
          "elapsed": 619,
          "status": "ok",
          "timestamp": 1735576192755,
          "user": {
            "displayName": "",
            "userId": ""
          },
          "user_tz": -420
        },
        "id": "zcU3Z8dMZUq6"
      },
      "outputs": [],
      "source": [
        "# Use the embedding_model to generate embeddings of the text chunks, saving them to a list called chunked_embeddings.\n",
        "# To do so, pass your list of chunks to the VertexAIEmbeddings class's embed_documents() method.\n",
        "# https://python.langchain.com/v0.2/docs/integrations/text_embedding/google_vertex_ai_palm/\n",
        "chunked_embeddings = embedding_model.embed_documents(chunked_content)"
      ]
    },
    {
      "cell_type": "code",
      "execution_count": 11,
      "id": "IM_qm5kuZk8e",
      "metadata": {
        "colab": {
          "base_uri": "https://localhost:8080/"
        },
        "executionInfo": {
          "elapsed": 5544,
          "status": "ok",
          "timestamp": 1735576198877,
          "user": {
            "displayName": "",
            "userId": ""
          },
          "user_tz": -420
        },
        "id": "IM_qm5kuZk8e",
        "outputId": "eaec5f1e-2d38-479e-f26d-1f6bababbf0f"
      },
      "outputs": [
        {
          "name": "stdout",
          "output_type": "stream",
          "text": [
            "Copying gs://partner-genai-bucket/genai069/chunked_content.pkl...\n",
            "/ [0 files][    0.0 B/280.7 KiB]                                                \r/ [1 files][280.7 KiB/280.7 KiB]                                                \r\n",
            "Operation completed over 1 objects/280.7 KiB.                                    \n",
            "Copying gs://partner-genai-bucket/genai069/chunked_embeddings.pkl...\n",
            "/ [1 files][  1.8 MiB/  1.8 MiB]                                                \n",
            "Operation completed over 1 objects/1.8 MiB.                                      \n"
          ]
        }
      ],
      "source": [
        "# Above code only chunks & create embeddings of a short section of the\n",
        "# document for demo purpose. To get the chunks & corresponding embeddings for\n",
        "# the full document, run the following code to download pre-created chunks\n",
        "# & embeddings\n",
        "!gsutil cp gs://partner-genai-bucket/genai069/chunked_content.pkl .\n",
        "!gsutil cp gs://partner-genai-bucket/genai069/chunked_embeddings.pkl .\n",
        "\n",
        "chunked_content = pickle.load(open(\"chunked_content.pkl\", \"rb\"))\n",
        "chunked_embeddings = pickle.load(open(\"chunked_embeddings.pkl\", \"rb\"))"
      ]
    },
    {
      "cell_type": "markdown",
      "id": "-yz4_d20ZwxH",
      "metadata": {
        "id": "-yz4_d20ZwxH"
      },
      "source": [
        "# Prepare your vector database\n",
        "Create a Firestore database with the default name of (default) in Native Mode and leave the other settings to default."
      ]
    },
    {
      "cell_type": "code",
      "execution_count": 12,
      "id": "mz_-_nZDZ3kn",
      "metadata": {
        "executionInfo": {
          "elapsed": 726,
          "status": "ok",
          "timestamp": 1735576748155,
          "user": {
            "displayName": "",
            "userId": ""
          },
          "user_tz": -420
        },
        "id": "mz_-_nZDZ3kn"
      },
      "outputs": [],
      "source": [
        "# Populate a db variable with a Firestore Client.\n",
        "db = firestore.Client(project=\"qwiklabs-gcp-01-13a2450742aa\")"
      ]
    },
    {
      "cell_type": "code",
      "execution_count": 13,
      "id": "wL-i8C1XZ7uX",
      "metadata": {
        "executionInfo": {
          "elapsed": 2,
          "status": "ok",
          "timestamp": 1735576750014,
          "user": {
            "displayName": "",
            "userId": ""
          },
          "user_tz": -420
        },
        "id": "wL-i8C1XZ7uX"
      },
      "outputs": [],
      "source": [
        "# Use a variable called collection to create a reference to a collection named food-safety.\n",
        "collection = db.collection(\"food-safety\")"
      ]
    },
    {
      "cell_type": "code",
      "execution_count": 14,
      "id": "V49chD7KaAeW",
      "metadata": {
        "executionInfo": {
          "elapsed": 18299,
          "status": "ok",
          "timestamp": 1735576770153,
          "user": {
            "displayName": "",
            "userId": ""
          },
          "user_tz": -420
        },
        "id": "V49chD7KaAeW"
      },
      "outputs": [],
      "source": [
        "# Using a combination of our lists chunked_content and chunked_embeddings,\n",
        "# add a document to your collection for each of your chunked documents.\n",
        "for i, (content, embedding) in enumerate(zip(chunked_content, chunked_embeddings)):\n",
        "    doc_ref = collection.document(f\"doc_{i}\")\n",
        "    doc_ref.set({\n",
        "        \"content\": content,\n",
        "        \"embedding\": Vector(embedding)\n",
        "    })"
      ]
    },
    {
      "cell_type": "code",
      "execution_count": 16,
      "id": "qZPjfIS0aC7e",
      "metadata": {
        "colab": {
          "base_uri": "https://localhost:8080/"
        },
        "executionInfo": {
          "elapsed": 149723,
          "status": "ok",
          "timestamp": 1735576944933,
          "user": {
            "displayName": "",
            "userId": ""
          },
          "user_tz": -420
        },
        "id": "qZPjfIS0aC7e",
        "outputId": "175a5399-36c5-4e60-df4b-8d545e06f29e"
      },
      "outputs": [
        {
          "name": "stdout",
          "output_type": "stream",
          "text": [
            "Create request issued\n",
            "Created index [CICAgOjXh4EK].\n"
          ]
        }
      ],
      "source": [
        "# Create a vector index for your collection using your embedding field using gcloud firestore indexes command\n",
        "!gcloud firestore indexes composite create \\\n",
        "--collection-group=food-safety \\\n",
        "--query-scope=COLLECTION \\\n",
        "--field-config field-path=embedding,vector-config='{\"dimension\":\"768\", \"flat\": \"{}\"}' \\\n",
        "--project=\"qwiklabs-gcp-01-13a2450742aa\""
      ]
    },
    {
      "cell_type": "code",
      "execution_count": 17,
      "id": "Szj5tSneaG-h",
      "metadata": {
        "executionInfo": {
          "elapsed": 5,
          "status": "ok",
          "timestamp": 1735576944933,
          "user": {
            "displayName": "",
            "userId": ""
          },
          "user_tz": -420
        },
        "id": "Szj5tSneaG-h"
      },
      "outputs": [],
      "source": [
        "def search_vector_database(query: str):\n",
        "\n",
        "  context = \"\"\n",
        "\n",
        "  # 1. Generate the embedding of the query\n",
        "  query_embedding = embedding_model.embed_query(query)\n",
        "\n",
        "  # 2. Get the 5 nearest neighbors from your collection.\n",
        "  # Call the get() method on the result of your call to\n",
        "  # find_nearest to retrieve document snapshots.\n",
        "  vector_query = collection.find_nearest(\n",
        "    vector_field=\"embedding\",\n",
        "    query_vector=Vector(query_embedding),\n",
        "    distance_measure=DistanceMeasure.EUCLIDEAN,\n",
        "    limit=5,\n",
        "  )\n",
        "\n",
        "  # 3. Call to_dict() on each snapshot to load its data.\n",
        "  # Combine the snapshots into a single string named context\n",
        "  docs = vector_query.stream()\n",
        "  context = [result.to_dict()['content'] for result in docs]\n",
        "\n",
        "  return context"
      ]
    },
    {
      "cell_type": "code",
      "execution_count": 18,
      "id": "8dsIphJZaGeG",
      "metadata": {
        "colab": {
          "base_uri": "https://localhost:8080/"
        },
        "executionInfo": {
          "elapsed": 3,
          "status": "ok",
          "timestamp": 1735576944933,
          "user": {
            "displayName": "",
            "userId": ""
          },
          "user_tz": -420
        },
        "id": "8dsIphJZaGeG",
        "outputId": "b6bdfd53-4580-457d-9be0-dc209fade1e9"
      },
      "outputs": [
        {
          "data": {
            "text/plain": [
              "[' Store foods away from dripping condensate , at least six inches above the floor and with enough space between items to encourage air circulation. Freezer Storage Freezing is an excellent method for prolonging the shelf life of foods. By keeping foods frozen solid, the bacterial growth is minimal at best. However, if frozen foods are thawed and then refrozen, then harmful bacteria can reproduce to dangerous levels when thawed for the second time. In addition to that, the quality of the food is also affected. Never refreeze thawed foods, instead use them immediately. Keep the following rules in mind for freezer storage:  Use First In First Out method of stock rotation. All frozen foods should be frozen solid with temperature at 0°F or lower. Always use clean containers that are clearly labeled and marked, and have proper and secure lids. Allow adequate spacing between food containers to allow for proper air circulation. Never use the freezer for cooling hot foods. * * Tip: When receiving multiple items, always store the frozen foods first, then foods that are to be refrigerated, and finally the non perishable dry goods. Dry Storage Proper storage of dry foods such as cereals, flour, rice, starches, spices, canned goods, packaged foods and vegetables that do not require refrigeration ensures that these foods will still be usable when needed. Adequate storage space as well as low humidity (50% or less), and low temperatures (70 °F or less) are strongly recommended.',\n",
              " 'Only use food containers that are clean, non-absorbent and are made from food-grade material intended for such use. Containers made from metal may react with certain type of high acid foods such as sauerkraut, citrus juices, tomato sauce, etc. Plastic food-grade containers are the best choice for these types of foods. Containers made of copper, brass, tin and galvanized metal should not be used. The use of such products is prohibited. Re-using cardboard containers to store cooked foods is also a source of contamination. Lining containers with newspapers, menus or other publication before placing foods is also prohibited as chemical dyes from these can easily leach into foods. Storage Areas Foods should only be stored in designated areas. Storing foods in passageways, rest rooms, garbage areas, utility rooms, etc. would subject these to contamination. Raw foods must always be stored below and away from cooked foods to avoid cross contamination. Refrigerated Storage This type of storage is typically used for holding potentially hazardous foods as well as perishable foods for short periods of time—a few hours to a few days. An adequate number of efficient refrigerated units are required to store potentially hazardous cold foods. By keeping cold foods cold, the microorganisms that are found naturally on these foods are kept to a minimum. Cold temperature does not kill microorganisms, however, it slows down their growth. Pre-packaged cold foods must be stored at temperatures recommended by the manufacturer. This is especially important when dealing with vacuum packed foods, modified atmosphere packages and sous vide foods. Smoked fish is required by the Health Code to be stored at 38°F or below. Fresh meat, poultry and other potentially hazardous foods must be stored at 41°F or below, while frozen foods must be stored at 0°F or below.',\n",
              " 'In addition to the above, avoid sunlight as it may affect the quality of some foods. Following are some of the guidelines:  Use First In First Out method of stock rotation. Keep foods at least 6 inches off the floor. This allows for proper cleaning and to detect vermin activity. Keep foods in containers with tightly fitted lids. Keep dry storage areas well lighted and ventilated. Install shades on windows to prevent exposure from sunlight. Do not store foods under overhead water lines that may drip due to leaks or condensation. Do not store garbage in dry food storage areas. Make sure that dry storage area is vermin proof by sealing walls and baseboards and by repairing holes and other openings. * * Safety Tip: Storage of harmful chemicals in the food storage areas can create hazardous situations and hence is prohibited by law. All chemicals must be labeled properly and used in accordance to the instructions on the label. Pesticide use is prohibited unless used by a licensed pest control officer. Storage in Ice Whenever food items are to be stored in ice, care must be taken to ensure that water from the melted ice is constantly being drained so that the food remains on ice and not immersed in iced water.',\n",
              " 'Furthermore, it is improper to store food in ice machines or ice that will be later used for human consumption. Food should be stored at least six inches off the floor, away from walls and dripping pipes. Keep all food, bulk or otherwise, covered and safe from contamination. Check food daily and throw away any spoiled or contaminated food. Store cleaning, disinfecting, and other chemicals away from foods, clearly marked and in their original containers. Keep food refrigerated at a temperature of 41°F or below. Monitor temperatures regularly with a thermometer placed in the warmest part of the refrigerator. Keep all cooling compartments closed except when you are using them. Store food in a refrigerator in such a way that the air inside can circulate freely. Keep all refrigerated foods covered, and use up stored leftovers quickly. When dishes and utensils are sparkling clean, keep them that way by proper storage.',\n",
              " 'l Store food in vermin-proof containers — metal or glass  containers, with tightly fitted lids. l Remove dented, leaking, rusted, swollen or unlabeled canned goods. Cold Storage: l All PHFs must be stored at 41° F (Except smoked fish at 38° F and raw shell eggs at 45 ° F). l All cooked and ready-to-eat food must be stored away from and above raw food. l Do not store foods in quantities that exceed the storage unit’s  capacity. l Place a refrigeration thermometer in the warmest spot in the unit to measure ambient air temperature of the unit l Check for condensation that may contaminate food. l Keep frozen foods frozen at 0° F or lower. STORAGE ']"
            ]
          },
          "execution_count": 18,
          "metadata": {},
          "output_type": "execute_result"
        }
      ],
      "source": [
        "# Call the function with a sample query to confirm it's functionality.\n",
        "search_vector_database(\"How should I store food?\")"
      ]
    },
    {
      "cell_type": "markdown",
      "id": "vq0FjoTccXdT",
      "metadata": {
        "id": "vq0FjoTccXdT"
      },
      "source": [
        "# Deploy a Generative AI application to search your vector store"
      ]
    },
    {
      "cell_type": "markdown",
      "id": "t29C5qP5cWLg",
      "metadata": {
        "id": "t29C5qP5cWLg"
      },
      "source": [
        "Now that your vector database is prepared, in this section you will work on the client application to query it and return answers generated by Gemini.\n",
        "\n",
        "1. Activate Cloud Shell by selecting the the icon that activates cloud shell icon in the upper right of the Cloud Console.\n",
        "\n",
        "2. To set up the base application and install packages, run the following command in Cloud Shell:\n",
        "```\n",
        "gcloud storage cp -r gs://partner-genai-bucket/genai069/gen-ai-assessment .\n",
        "cd gen-ai-assessment\n",
        "python3 -m pip install -r requirements.txt\n",
        "```\n",
        "3. Run this base Flask application in Cloud Shell with:\n",
        "```\n",
        "python3 main.py\n",
        "```\n",
        "4. The app will run by default on Port 8080. Preview the app by clicking the Web Preview icon at the top of the Cloud Shell panel, then Preview on port 8080.\n",
        "\n",
        "5. You should be able to see the app and get a greeting, but if you try to ask FreshBot any questions, it will currently only reply Not implemented.\n",
        "\n",
        "6. Back in the Cloud Console, you can press CTRL+C to stop the app from running. Click Open Editor at the top of the Cloud Shell panel.\n",
        "\n",
        "7. Within the Explorer panel on the left of the Cloud Shell Editor, select the file `generative-ai-assessment/main.py`\n",
        "\n",
        "8. Just below the initialization of the Firestore database client, find the first comment labeled TODO. Assign a reference to your food-safety collection to the collection variable.\n",
        "\n",
        "Note: As you work through the next few steps, you can test your application by running the command python3 main.py. Alternatively, you can also use the Web Preview option to preview the application.\n",
        "\n",
        "9. Beneath the next two comments beginning TODO, assign the appropriate models to the variables embedding_model (using the same embedding model version of text-embedding-004 you used earlier in the lab) and gen_model (using the generative model version \"gemini-pro\" and a temperature of 0).\n",
        "\n",
        "10. Complete the function search_vector_database as you did above.\n",
        "\n",
        "11. Complete the ask_gemini function to instruct your gen_model to answer a question based on the context retrieved from the vector database.\n",
        "\n",
        "Since some food safety content involves knives and potential burns, set Gemini's Dangerous Content safety setting to block only high-probability dangerous content.\n",
        "\n",
        "12. When you have completed these steps, make sure the Flask app is running in your Cloud Shell Terminal and test it by making sure it can answer the following question:\n",
        "```\n",
        "What temperature range do Mesophilic Bacteria grow best in?\n",
        "```\n",
        "You should receive a response with a temperature range of 50 to 110 degrees Fahrenheit from the model.\n",
        "\n",
        "Now, we will deploy the Flask application from this directory to Cloud Run.\n",
        "\n",
        "13. Navigate in the Cloud Console to Artifact Registry and find the cymbal-repo repo that has been created for you in the us-central1 location. Use the copy button to copy the repo URI.\n",
        "\n",
        "14. Create a Docker image named cymbal-docker-image using Dockerfile by running the following command (make sure you're in gen-ai-assessment directory):\n",
        "```\n",
        "docker build -t cymbal-docker-image -f Dockerfile .\n",
        "```\n",
        "15. Push the image to the Artifact Registry repository. Refer to this documentation if you need assistance.\n",
        "- Find image id using command: `docker images`\n",
        "- Name the image: `docker tag 9dffbe1841e4  us-central1-docker.pkg.dev/qwiklabs-gcp-04-9a8dc3dcd91f/cymbal-repo/cymbal-image`\n",
        "- Push the image: `docker push us-central1-docker.pkg.dev/qwiklabs-gcp-04-9a8dc3dcd91f/cymbal-repo/cymbal-image`\n",
        "\n",
        "16. Deploy the app to Cloud Run as a service named cymbal-freshbot-service. Allow the service to accept unauthenticated invocations.\n",
        "https://www.youtube.com/watch?v=MM4viHa7k4w \n",
        "\n",
        "17. Test your model through its Cloud Run service URL with the following question: At what temperature should dairy products be stored?"
      ]
    }
  ],
  "metadata": {
    "colab": {
      "name": "student-00-7fd6286c633b (Dec 30, 2024, 11:23:01 PM)",
      "provenance": []
    },
    "kernelspec": {
      "display_name": "Python 3",
      "language": "python",
      "name": "python3"
    },
    "language_info": {
      "codemirror_mode": {
        "name": "ipython",
        "version": 3
      },
      "file_extension": ".py",
      "mimetype": "text/x-python",
      "name": "python",
      "nbconvert_exporter": "python",
      "pygments_lexer": "ipython3",
      "version": "3.10.10"
    }
  },
  "nbformat": 4,
  "nbformat_minor": 5
}
