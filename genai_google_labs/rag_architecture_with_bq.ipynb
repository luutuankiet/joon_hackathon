{
  "cells": [
    {
      "cell_type": "code",
      "id": "0IJp554U0psOuDWwNTfXdDRs",
      "metadata": {
        "tags": [],
        "id": "0IJp554U0psOuDWwNTfXdDRs",
        "colab": {
          "base_uri": "https://localhost:8080/",
          "height": 932
        },
        "executionInfo": {
          "status": "ok",
          "timestamp": 1735277328987,
          "user_tz": -420,
          "elapsed": 11494,
          "user": {
            "displayName": "",
            "userId": ""
          }
        },
        "outputId": "ff82e692-f5f9-457b-bdcf-c398d810c90d"
      },
      "source": [
        "!pip install --upgrade --user google-cloud-aiplatform google-cloud-bigquery"
      ],
      "execution_count": 1,
      "outputs": [
        {
          "output_type": "stream",
          "name": "stdout",
          "text": [
            "Requirement already satisfied: google-cloud-aiplatform in /usr/local/lib/python3.10/dist-packages (1.73.0)\n",
            "Collecting google-cloud-aiplatform\n",
            "  Downloading google_cloud_aiplatform-1.75.0-py2.py3-none-any.whl.metadata (31 kB)\n",
            "Requirement already satisfied: google-cloud-bigquery in /usr/local/lib/python3.10/dist-packages (3.25.0)\n",
            "Collecting google-cloud-bigquery\n",
            "  Downloading google_cloud_bigquery-3.27.0-py2.py3-none-any.whl.metadata (8.6 kB)\n",
            "Requirement already satisfied: google-api-core!=2.0.*,!=2.1.*,!=2.2.*,!=2.3.*,!=2.4.*,!=2.5.*,!=2.6.*,!=2.7.*,<3.0.0dev,>=1.34.1 in /usr/local/lib/python3.10/dist-packages (from google-api-core[grpc]!=2.0.*,!=2.1.*,!=2.2.*,!=2.3.*,!=2.4.*,!=2.5.*,!=2.6.*,!=2.7.*,<3.0.0dev,>=1.34.1->google-cloud-aiplatform) (2.19.2)\n",
            "Requirement already satisfied: google-auth<3.0.0dev,>=2.14.1 in /usr/local/lib/python3.10/dist-packages (from google-cloud-aiplatform) (2.27.0)\n",
            "Requirement already satisfied: proto-plus<2.0.0dev,>=1.22.3 in /usr/local/lib/python3.10/dist-packages (from google-cloud-aiplatform) (1.25.0)\n",
            "Requirement already satisfied: protobuf!=4.21.0,!=4.21.1,!=4.21.2,!=4.21.3,!=4.21.4,!=4.21.5,<6.0.0dev,>=3.20.2 in /usr/local/lib/python3.10/dist-packages (from google-cloud-aiplatform) (4.25.5)\n",
            "Requirement already satisfied: packaging>=14.3 in /usr/local/lib/python3.10/dist-packages (from google-cloud-aiplatform) (24.2)\n",
            "Requirement already satisfied: google-cloud-storage<3.0.0dev,>=1.32.0 in /usr/local/lib/python3.10/dist-packages (from google-cloud-aiplatform) (2.8.0)\n",
            "Requirement already satisfied: google-cloud-resource-manager<3.0.0dev,>=1.3.3 in /usr/local/lib/python3.10/dist-packages (from google-cloud-aiplatform) (1.13.1)\n",
            "Requirement already satisfied: shapely<3.0.0dev in /usr/local/lib/python3.10/dist-packages (from google-cloud-aiplatform) (2.0.6)\n",
            "Requirement already satisfied: pydantic<3 in /usr/local/lib/python3.10/dist-packages (from google-cloud-aiplatform) (2.10.3)\n",
            "Requirement already satisfied: docstring-parser<1 in /usr/local/lib/python3.10/dist-packages (from google-cloud-aiplatform) (0.16)\n",
            "Requirement already satisfied: google-cloud-core<3.0.0dev,>=2.4.1 in /usr/local/lib/python3.10/dist-packages (from google-cloud-bigquery) (2.4.1)\n",
            "Requirement already satisfied: google-resumable-media<3.0dev,>=2.0.0 in /usr/local/lib/python3.10/dist-packages (from google-cloud-bigquery) (2.7.2)\n",
            "Requirement already satisfied: python-dateutil<3.0dev,>=2.7.3 in /usr/local/lib/python3.10/dist-packages (from google-cloud-bigquery) (2.8.2)\n",
            "Requirement already satisfied: requests<3.0.0dev,>=2.21.0 in /usr/local/lib/python3.10/dist-packages (from google-cloud-bigquery) (2.32.3)\n",
            "Requirement already satisfied: googleapis-common-protos<2.0.dev0,>=1.56.2 in /usr/local/lib/python3.10/dist-packages (from google-api-core!=2.0.*,!=2.1.*,!=2.2.*,!=2.3.*,!=2.4.*,!=2.5.*,!=2.6.*,!=2.7.*,<3.0.0dev,>=1.34.1->google-api-core[grpc]!=2.0.*,!=2.1.*,!=2.2.*,!=2.3.*,!=2.4.*,!=2.5.*,!=2.6.*,!=2.7.*,<3.0.0dev,>=1.34.1->google-cloud-aiplatform) (1.66.0)\n",
            "Requirement already satisfied: grpcio<2.0dev,>=1.33.2 in /usr/local/lib/python3.10/dist-packages (from google-api-core[grpc]!=2.0.*,!=2.1.*,!=2.2.*,!=2.3.*,!=2.4.*,!=2.5.*,!=2.6.*,!=2.7.*,<3.0.0dev,>=1.34.1->google-cloud-aiplatform) (1.68.1)\n",
            "Requirement already satisfied: grpcio-status<2.0.dev0,>=1.33.2 in /usr/local/lib/python3.10/dist-packages (from google-api-core[grpc]!=2.0.*,!=2.1.*,!=2.2.*,!=2.3.*,!=2.4.*,!=2.5.*,!=2.6.*,!=2.7.*,<3.0.0dev,>=1.34.1->google-cloud-aiplatform) (1.62.3)\n",
            "Requirement already satisfied: cachetools<6.0,>=2.0.0 in /usr/local/lib/python3.10/dist-packages (from google-auth<3.0.0dev,>=2.14.1->google-cloud-aiplatform) (5.5.0)\n",
            "Requirement already satisfied: pyasn1-modules>=0.2.1 in /usr/local/lib/python3.10/dist-packages (from google-auth<3.0.0dev,>=2.14.1->google-cloud-aiplatform) (0.4.1)\n",
            "Requirement already satisfied: rsa<5,>=3.1.4 in /usr/local/lib/python3.10/dist-packages (from google-auth<3.0.0dev,>=2.14.1->google-cloud-aiplatform) (4.9)\n",
            "Requirement already satisfied: grpc-google-iam-v1<1.0.0dev,>=0.12.4 in /usr/local/lib/python3.10/dist-packages (from google-cloud-resource-manager<3.0.0dev,>=1.3.3->google-cloud-aiplatform) (0.13.1)\n",
            "Requirement already satisfied: google-crc32c<2.0dev,>=1.0 in /usr/local/lib/python3.10/dist-packages (from google-resumable-media<3.0dev,>=2.0.0->google-cloud-bigquery) (1.6.0)\n",
            "Requirement already satisfied: annotated-types>=0.6.0 in /usr/local/lib/python3.10/dist-packages (from pydantic<3->google-cloud-aiplatform) (0.7.0)\n",
            "Requirement already satisfied: pydantic-core==2.27.1 in /usr/local/lib/python3.10/dist-packages (from pydantic<3->google-cloud-aiplatform) (2.27.1)\n",
            "Requirement already satisfied: typing-extensions>=4.12.2 in /usr/local/lib/python3.10/dist-packages (from pydantic<3->google-cloud-aiplatform) (4.12.2)\n",
            "Requirement already satisfied: six>=1.5 in /usr/local/lib/python3.10/dist-packages (from python-dateutil<3.0dev,>=2.7.3->google-cloud-bigquery) (1.17.0)\n",
            "Requirement already satisfied: charset-normalizer<4,>=2 in /usr/local/lib/python3.10/dist-packages (from requests<3.0.0dev,>=2.21.0->google-cloud-bigquery) (3.4.0)\n",
            "Requirement already satisfied: idna<4,>=2.5 in /usr/local/lib/python3.10/dist-packages (from requests<3.0.0dev,>=2.21.0->google-cloud-bigquery) (3.10)\n",
            "Requirement already satisfied: urllib3<3,>=1.21.1 in /usr/local/lib/python3.10/dist-packages (from requests<3.0.0dev,>=2.21.0->google-cloud-bigquery) (2.2.3)\n",
            "Requirement already satisfied: certifi>=2017.4.17 in /usr/local/lib/python3.10/dist-packages (from requests<3.0.0dev,>=2.21.0->google-cloud-bigquery) (2024.8.30)\n",
            "Requirement already satisfied: numpy<3,>=1.14 in /usr/local/lib/python3.10/dist-packages (from shapely<3.0.0dev->google-cloud-aiplatform) (1.26.4)\n",
            "Requirement already satisfied: pyasn1<0.7.0,>=0.4.6 in /usr/local/lib/python3.10/dist-packages (from pyasn1-modules>=0.2.1->google-auth<3.0.0dev,>=2.14.1->google-cloud-aiplatform) (0.6.1)\n",
            "Downloading google_cloud_aiplatform-1.75.0-py2.py3-none-any.whl (6.9 MB)\n",
            "\u001b[2K   \u001b[90m━━━━━━━━━━━━━━━━━━━━━━━━━━━━━━━━━━━━━━━━\u001b[0m \u001b[32m6.9/6.9 MB\u001b[0m \u001b[31m62.7 MB/s\u001b[0m eta \u001b[36m0:00:00\u001b[0m\n",
            "\u001b[?25hDownloading google_cloud_bigquery-3.27.0-py2.py3-none-any.whl (240 kB)\n",
            "\u001b[2K   \u001b[90m━━━━━━━━━━━━━━━━━━━━━━━━━━━━━━━━━━━━━━━━\u001b[0m \u001b[32m240.1/240.1 kB\u001b[0m \u001b[31m26.7 MB/s\u001b[0m eta \u001b[36m0:00:00\u001b[0m\n",
            "\u001b[?25hInstalling collected packages: google-cloud-bigquery, google-cloud-aiplatform\n",
            "\u001b[33m  WARNING: The script tb-gcp-uploader is installed in '/root/.local/bin' which is not on PATH.\n",
            "  Consider adding this directory to PATH or, if you prefer to suppress this warning, use --no-warn-script-location.\u001b[0m\u001b[33m\n",
            "\u001b[0mSuccessfully installed google-cloud-aiplatform-1.75.0 google-cloud-bigquery-3.27.0\n"
          ]
        },
        {
          "output_type": "display_data",
          "data": {
            "application/vnd.colab-display-data+json": {
              "pip_warning": {
                "packages": [
                  "google"
                ]
              },
              "id": "6c619f9814e74bcb926a5031512cd47f"
            }
          },
          "metadata": {}
        }
      ]
    },
    {
      "cell_type": "code",
      "source": [
        "# Get project ID\n",
        "PROJECT_ID = ! gcloud config get-value project\n",
        "PROJECT_ID = PROJECT_ID[0]\n",
        "LOCATION = \"us-central1\" # @param {type:\"string\"}\n",
        "print(PROJECT_ID)"
      ],
      "metadata": {
        "colab": {
          "base_uri": "https://localhost:8080/"
        },
        "id": "Ylvlzlpalsbi",
        "executionInfo": {
          "status": "ok",
          "timestamp": 1735277380255,
          "user_tz": -420,
          "elapsed": 1358,
          "user": {
            "displayName": "",
            "userId": ""
          }
        },
        "outputId": "9f4a488e-84f8-4b12-9c2a-c71bf624470b"
      },
      "id": "Ylvlzlpalsbi",
      "execution_count": 1,
      "outputs": [
        {
          "output_type": "stream",
          "name": "stdout",
          "text": [
            "qwiklabs-gcp-02-6dae406f4bf4\n"
          ]
        }
      ]
    },
    {
      "cell_type": "code",
      "source": [
        "from google.cloud import aiplatform\n",
        "aiplatform.init(project=PROJECT_ID, location=LOCATION)\n",
        "\n",
        "print(\"Initialized\")"
      ],
      "metadata": {
        "colab": {
          "base_uri": "https://localhost:8080/"
        },
        "id": "i-O8L5XZl30N",
        "executionInfo": {
          "status": "ok",
          "timestamp": 1735277396172,
          "user_tz": -420,
          "elapsed": 4338,
          "user": {
            "displayName": "",
            "userId": ""
          }
        },
        "outputId": "85110930-b683-4394-bb41-2b85dd4316e4"
      },
      "id": "i-O8L5XZl30N",
      "execution_count": 2,
      "outputs": [
        {
          "output_type": "stream",
          "name": "stdout",
          "text": [
            "Initialized\n"
          ]
        }
      ]
    },
    {
      "cell_type": "code",
      "source": [
        "import vertexai\n",
        "from vertexai.generative_models import GenerativeModel, Part\n",
        "\n",
        "def answer_question_gemini(prompt):\n",
        "  model = GenerativeModel(\"gemini-pro\")\n",
        "  response = model.generate_content(\n",
        "    prompt,\n",
        "    generation_config={\n",
        "        \"max_output_tokens\": 8192,\n",
        "        \"temperature\": 0.5,\n",
        "        \"top_p\": 0.5,\n",
        "        \"top_k\": 10,\n",
        "    },\n",
        "  stream=False,\n",
        "  )\n",
        "  try:\n",
        "    return response.text\n",
        "  except:\n",
        "    print(\"An Error Ocuured Cleaning the Data\")\n",
        "    return \"An Error Ocuured Cleaning the Data\""
      ],
      "metadata": {
        "id": "itlJUT8kl8ac",
        "executionInfo": {
          "status": "ok",
          "timestamp": 1735277403072,
          "user_tz": -420,
          "elapsed": 587,
          "user": {
            "displayName": "",
            "userId": ""
          }
        }
      },
      "id": "itlJUT8kl8ac",
      "execution_count": 3,
      "outputs": []
    },
    {
      "cell_type": "code",
      "source": [
        "def run_search(question):\n",
        "  from google.cloud import bigquery\n",
        "\n",
        "  client = bigquery.Client()\n",
        "\n",
        "  sql = \"\"\"\n",
        "      SELECT query.query, base.title, base.body\n",
        "      FROM VECTOR_SEARCH(\n",
        "      TABLE `bbc_news.bbc_news_with_embeddings`, 'text_embedding',\n",
        "      (\n",
        "      SELECT text_embedding, content AS query\n",
        "      FROM ML.GENERATE_TEXT_EMBEDDING(MODEL `bbc_news.bq_embedding_model`,\n",
        "          (SELECT @question AS content))),\n",
        "      top_k => 5)\n",
        "      \"\"\"\n",
        "\n",
        "  job_config = bigquery.QueryJobConfig(\n",
        "    query_parameters=[\n",
        "        bigquery.ScalarQueryParameter(\"question\", \"STRING\", question),\n",
        "    ]\n",
        "  )\n",
        "\n",
        "  query_job = client.query(sql, job_config=job_config)\n",
        "\n",
        "  data = \"\"\n",
        "  for row in query_job:\n",
        "    data += row.body + \"\\n\"\n",
        "\n",
        "  return data"
      ],
      "metadata": {
        "id": "BpgIrOzLmCsM",
        "executionInfo": {
          "status": "ok",
          "timestamp": 1735277436616,
          "user_tz": -420,
          "elapsed": 1,
          "user": {
            "displayName": "",
            "userId": ""
          }
        }
      },
      "id": "BpgIrOzLmCsM",
      "execution_count": 4,
      "outputs": []
    },
    {
      "cell_type": "code",
      "source": [
        "def build_prompt(data, question):\n",
        "  prompt = \"\"\"\n",
        "    Instructions: Answer the question using the following Context.\n",
        "\n",
        "    Context: {0}\n",
        "\n",
        "    Question: {1}\n",
        "  \"\"\".format(data, question)\n",
        "  return prompt"
      ],
      "metadata": {
        "id": "7nZS6hEXmLsP",
        "executionInfo": {
          "status": "ok",
          "timestamp": 1735277463078,
          "user_tz": -420,
          "elapsed": 2,
          "user": {
            "displayName": "",
            "userId": ""
          }
        }
      },
      "id": "7nZS6hEXmLsP",
      "execution_count": 5,
      "outputs": []
    },
    {
      "cell_type": "code",
      "source": [
        "from IPython.core.display import display, HTML\n",
        "\n",
        "def answer_question(question):\n",
        "\n",
        "  data = run_search(question)\n",
        "  display(\"Retrieved Data:\")\n",
        "  display(data)\n",
        "  display(\" . . . \")\n",
        "  prompt = build_prompt(data, question)\n",
        "  answer_gemini = answer_question_gemini(prompt)\n",
        "\n",
        "  return answer_gemini"
      ],
      "metadata": {
        "id": "6_OLvY4YmM40",
        "executionInfo": {
          "status": "ok",
          "timestamp": 1735277474540,
          "user_tz": -420,
          "elapsed": 622,
          "user": {
            "displayName": "",
            "userId": ""
          }
        }
      },
      "id": "6_OLvY4YmM40",
      "execution_count": 6,
      "outputs": []
    },
    {
      "cell_type": "code",
      "source": [
        "QUESTION = \"What's happening in sports?\"\n",
        "\n",
        "answer_gemini = answer_question(QUESTION)\n",
        "display(\"User Question:\")\n",
        "display(QUESTION)\n",
        "display(\"--------------------------------\")\n",
        "display(\"Gemini Answer:\")\n",
        "display(answer_gemini)"
      ],
      "metadata": {
        "colab": {
          "base_uri": "https://localhost:8080/",
          "height": 337
        },
        "id": "DxXMYoKemV-z",
        "executionInfo": {
          "status": "ok",
          "timestamp": 1735277549369,
          "user_tz": -420,
          "elapsed": 10054,
          "user": {
            "displayName": "",
            "userId": ""
          }
        },
        "outputId": "9e06b388-79c9-429a-8fd3-80043b31f398"
      },
      "id": "DxXMYoKemV-z",
      "execution_count": 8,
      "outputs": [
        {
          "output_type": "display_data",
          "data": {
            "text/plain": [
              "'Retrieved Data:'"
            ],
            "application/vnd.google.colaboratory.intrinsic+json": {
              "type": "string"
            }
          },
          "metadata": {}
        },
        {
          "output_type": "display_data",
          "data": {
            "text/plain": [
              "'The current slew of sports games offers unparalleled opportunities for fans who like to emulate on-field action without ever moving from the couch.\\n\\nThe two giants in the field - ESPN and EA Sports - have been locked in a heavyweight battle for years. The latter is the world\\'s largest games manufacturer. Years of experience mean that the titles in their steady flow of sport sims are finely honed, massively entertaining and ooze flair. Sports broadcaster ESPN, meanwhile, has leant its name to a series of games that are similarly classy but lower in profile and price. But that status quo was changed forever - or for the next 15 years at least - by a deal earlier this year when ESPN sold EA the rights to its TV branding and on-air talent, meaning the ESPN games presently developed by Sega will have to come to and end in their present form.\\n\\nIt was a massive-money deal that not only raised eyebrows but stirred active indignation in many quarters, with fans concerned that it is set to enable EA to monopolise the sports gaming landscape to an unhealthy degree. Some particularly disgruntled fans set up an online petition that notched more than 18,000 virtual signatures. Many of those clicking to complain were already rankled, for the ESPN coup happened just weeks after EA had pulled off another enormous licensing deal, controversially giving them exclusive rights to teams and personnel from America&#191;s National Football League (NFL). So, will the Sega - ESPN range be missed? A key reason for answering \"yes\" is that liking or disliking a sports game regularly comes down to personal taste, and having some options available always proves hugely handy. Online soccer fans will testify to that, between bouts of arguing over which high-profile title rules supreme out of the similar-yet-hugely-different FIFA 2005 and Pro Evolution Soccer 4. On the same note, the ESPN 2k5 and EA sports games have so little to choose between them that picking favourites will come down to players\\' personal preferences and spending budget rather than any technical elements. Taking hockey and basketball as examples, both publishers\\' efforts are phenomenally entertaining and fairly accessible. They also both look awesome, with the Sega / ESPN versions perhaps shading things on a graphical front.\\n\\nIn terms of gameplay, I marginally preferred EA\\'s NBA Live 2005 for basketball, and was more satisfied ice hockey-wise by ESPN\\'s NHL 2K5. The ESPN games are a touch more arcade-like in look and feel and are slightly easier to get into, although like their rivals, they also offer a dizzyingly-extensive array of in-game tricks and overall challenge modes that should be enough to quench thirsts of even the most die-hard of sports fans. Perhaps the most interesting aspect of the ESPN deal will be seeing how it affects the presentation of EA\\'s future titles. The front-end decoration of EA\\'s games has become something of an art-form in itself, loaded with slick visuals and oodles of licensed music. They are also immediately identifiable as coming from the EA stable, and the inevitable compulsion to add an ESPN look will no doubt change that in various ways. What is a shame is that the ESPN titles took similar care about framing the gameplay with an authentic setting - their preambles look and sound much like they would on TV. They are neat and excellent-value games in their current form, and combining them with EA\\'s own established brand should produce a truly formidable beast.\\n\\nAthletics fans endured a year of mixed emotions in 2004 as stunning victories went hand-in-hand with disappointing defeats and more drugs scandals.\\n\\nKelly Holmes finally fulfilled her potential by storming to double gold on the track at the Olympic Games. Holmes helped erase the gloom hanging over Team GB after their biggest medal hope, Paula Radcliffe, dropped out of the marathon and then the 10,000m. Britain\\'s men\\'s 4x100m relay team also did their bit by taking a shock gold. Holmes had started the year in disappointing style, falling over in the final of 1500m at the World Indoor Championships where she was favourite. Her Olympic build-up was clouded by self doubt but that proved unfounded as she overhauled rival Maria Mutola to win the 800m - her first global title. Just five days later, the 34-year-old made it double gold in the 1500m. It was the first time in 84 years a Briton has achieved the Olympic middle-distance double. While Holmes left Athens as the star of Team GB, it was Radcliffe who carried expectations before the August Games.\\n\\nThe 30-year-old marathon world record holder went into the Athens event as favourite but an exhausted Radcliffe dropped out after 23 miles in tears. Her decision to enter the 10,000m five days later also backfired as she again pulled out with eight laps remaining.\\n\\nBut Radcliffe helped put her Olympic trauma behind her with a thrilling win in November\\'s New York Marathon. The 4x100m team grabbed some last-gasp glory for the British men\\'s Olympic squad after a poor start to the Games.\\n\\nIt seemed as though Athens would be the first Games where the men would fail to win a medal with Michael East the only individual track finalist in the 1500m. But Darren Campell, Jason Gardener, Marlon Devonish and Mark Lewis-Francis made amends in the sprint relay. The quartet held off favourites the USA to win Britain\\'s first relay medal since 1912 in 38.07 seconds. Gardener added the Olympic relay crown to his World Indoor title over 60m and, just like Holmes, finally lived up to his promise in 2004. Kelly Sotherton completed Team GB\\'s athletics medal haul in Athens with a surprise bronze in the heptathlon. The 28-year-old won her first championship medal since becoming a full-time athlete in 2003.\\n\\nBut it was a different story for Britain\\'s defending champion Denise Lewis, who withdrew on day two of the competition after some poor results. Lewis, who was troubled by injury, has ruled out retiring while Sotherton is tipped to build on her success. The Athens Olympics proved to be a landmark occasion for Steve Backley, who retired from competition after finishing fourth in the javelin. The battling 35-year-old leaves the sport with a vast medal haul including two silvers and one Olympic bronze.\\n\\nAnd Backley\\'s departure was balanced by the return of injury-hit decathlete Dean Macey, who came fourth in Athens.\\n\\nThe continued improvement of sprinter Abi Oyepitan and long jumper Chris Tomlinson also boosted Team GB. Sadly, the 2004 Olympics did not escape the problems of drugs misuse. On the eve of the Games, Greek sprinters Kostas Kenteris and Katerina Thanou missed a drugs test and claimed to have been involved in a road crash.\\n\\nKenteris, the 200m champion in 2000, and Thanou have since been charged by the Greek authorities and await trial. At the Games, Adrian Annus (hammer), Robert Fazelas (discus) and Irina Korzhanenko (shot) were all stripped of their titles because of doping issues. Hungarian compatriots Annus and Fazelas both refused to give urine samples while Russian Korzhanenko tested positive for the steroid stanozolol.\\n\\nThe fallout from the THG scandal, which rocked the sport in 2003, continued to impact in Olympic year. Britain\\'s 4x100m team took gold without the services of Dwain Chambers, who was handed a two-year ban in February after testing positive for steroid THG.\\n\\nAmerican Kelli White was suspended and stripped of her world 100m and 200m titles after failing a drugs test. And world 400m champion Jerome Young landed a life ban from US chiefs after a second doping offence. Russian pole vaulter Yelena Isinbayeva provided some light relief by smashing the world record seven times on her way to the World Indoor and Olympic titles. Her rivalry with compatriot Svetlana Feofanova livened up the field events. Morocco\\'s Hicham El Guerrouj also delighted fans by racing to a historic Olympic double in the 1500m and 5,000m.\\n\\nAnd though there was no Paula Radcliffe in the London Marathon, there was plenty of drama as Kenyans Evans Rutto and Margaret Okayo took the titles. Rutto held on to win despite slipping on some cobblestones and tumbling into a barrier. Okayo also had to battle back after mistiming her tactics but clinched victory on her debut.\\n\\nJade Johnson edged out rival Kelly Sotherton with her last effort to claim the AAAs long jump title at the Norwich Union European Indoor trials.\\n\\nOlympic heptathlon bronze medallist, Sotherton, led the event with her first leap of 6.43m - a personal best. But Johnson, who has not competed indoors for five years, leapt to a life-time best of 6.50m in her last jump, after four fouls. Both Johnson and Sotherton passed the European Championships qualifying mark. Although Sotherton\\'s main aim in Madrid next month will be the pentathlon where she will take on Olympic heptathlon champion Carolina Kluft. Ireland\\'s\\n\\ndelivered a shock in the men\\'s 200m as he stormed to his first major title in 21.01 seconds. British favourite Chris Lambert had to settle for second place while defending champion Ireland\\'s Paul Brizzel took third. There was some consolation for Lambert as he set a personal best of 20.94 in the first round - good enough to qualify for Europe.\\n\\nTwo-time AAAs champion Allyn Condon and Ian Mackie had no such luck as they were disqualified in the heats. There was plenty of hot action in the men\\'s 60m hurdles where Scotland\\'s\\n\\nwas vying for top spot with Olympian Andy Turner. Scott, 22, smashed his personal best on the way to the final, where he broke it again to win the AAAs title in 7.58 seconds. Turner finished second in 7.82 after previously setting a personal best on the 7.83 in the semi-finals, while Damien Greaves did not finish the final. The trio of athletes have reached the European qualifying mark this season though one of them is set to miss out on a call-up to the British squad.\\n\\ncomfortably defended her 3,000m title, clocking eight minutes, 49.87 seconds to easily surpass the European qualifying mark. The European cross country bronze medallist is ranked number one in Europe this season and will go to Madrid with high hopes. Helen Clitheroe was agonisingly close to the 9:05.00 qualifying mark as she claimed the runners-up spot in a personal best of 9:05.73. In the men\\'s 800m heats,\\n\\nqualified fastest in the 800m heats to lay down a challenge to in-form\\n\\n. The Welsh runner attacked the last 200m to come through ahead of James Thie in one minute, 49.87 seconds. McIlroy, who is third in the European rankings, eased across the finish in 1:50.87 to set up a showdown in Sunday\\'s final in Sheffield. Both Watkins and McIlroy have already achieved the European qualifying mark. Scotland\\'s Susan Deacon stole\\n\\n\\'s thunder in the final of the women\\'s 200m. Fraser became the fastest British woman over the distance this season when she qualified for the final in 23.68 seconds - though that time is outside the European standard. But Deacon claimed her first AAAs title over the distance, edging Fraser into second in 23.67. In the women\\'s shot put veteran\\n\\nclaimed her fourth AAAs title with a throw of 15.27m. But that mark was not good enough for the 39-year-old to book her place at next month\\'s European Indoor Championships in Madrid. Sotherton finished fifth after producing two throws of 13.77m. In the absence of injured British number one Carl Myerscough,\\n\\nclaimed the men\\'s shot put title with a throw of 17.64m, which was below the qualifying mark.\\n\\nSale\\'s Robert Mitchell climbed to a season\\'s best of 2.20m - just 3cm short of the European standard - to claim the British indoor high jump title.\\n\\ncould only clear 2.16m to finish in fourth but the 27-year-old\\'s disappointment will be tempered as he had already achieved the qualifying mark at a meeting in Slovenia on Tuesday. There was bad luck for British number one\\n\\nin the pole vault as he failed to clear the bar after deciding to come in at 5.45m. The AAAs indoor title went instead to Ashley Swain, who climbed to a season\\'s best of 5.25m And Ireland\\'s Taniesha Scanlon set a new national record of 13.28m in the women\\'s triple jump.\\n\\nBritain\\'s Jason Gardener shook off an upset stomach to win the 60m at Sunday\\'s Leipzig International meeting.\\n\\nGardener clocked 6.56 seconds to equal the meeting record and finished well ahead of Germany\\'s Marc Blume, who crossed the line in 6.67 secs. The world indoor champion said: \"I got to the airport and my stomach was upset and I was vomiting. I almost went home. \"I felt a little better Sunday morning but decided I\\'d only run in the main race. Then everything went perfectly.\" Gardener, part of the Great Britain 4x100m quartet that won gold at the Athens Olympics, will now turn his attention to next weekend\\'s Norwich Union European Indoor trials in Sheffield.\\n\\n\"Given I am still off-colour I know there is plenty more in the tank and I expect to get faster in the next few weeks,\" he said. \"It\\'s just a case of chipping away as I have done in previous years and the results will come.\" Scotland\\'s Ian Mackie was also in action in Leipzig. He stepped down from his favoured 400m to 200m to finish third in 21.72 secs. Germany\\'s Alexander Kosenkow won the race in 21.07 secs with Dutchman Patrick van Balkom second in 21.58 secs. There were plenty of other senior British athletes showing their indoor form over the weekend. Promising 60m hurdler\\n\\nclocked a new UK record of 7.98 seconds at a meeting in Norway. The 24-year-old reached the mark in her heat but had to settle for joint first place with former AAA champion Diane Allahgreen in the final.\\n\\n, who broke onto the international scene at the Olympic Games last season, set an indoor personal best of 16.50m in the triple jump at a meeting in Ghent. That leap - 37cm short of Brazilian winner Jadel Gregorio\\'s effort - was good enough to qualify for the European Indoor Championships. At the same meeting,\\n\\nfinished third in 7.27 seconds in a high-class women\\'s 60m. The event was won by European medal favourite Christine Arron of France while Belgium rival Kim Gevaert was second. Britain\\'s Joice Maduaka finished fifth in 7.35. Olympic bronze heptathlon medallist\\n\\nmade a low-key return to action at an indoor meeting in Birmingham. The 28-year-old cleared 1.76m to win the high jump and threw 13.86m in the women\\'s shot put.\\n\\nAndre Agassi put in an erratic display before edging into the fourth round of the Australian Open with victory over Taylor Dent.\\n\\nThe 34-year-old American, seeded eighth, made a poor start, dropping serve early on and later needing two chances to serve out the set. Having secured the lead, Agassi still failed to take control as both players forced a succession of breaks. But Agassi won the tie-break before wrapping up a 7-5 7-6 (7-3) 6-1 win. Fourth seed\\n\\nsurvived an injury scare as he battled past Mario Ancic 6-4 3-6 6-3 6-4. The Russian turned his right ankle in the third game of the fourth set and called for treatment immediately. But he showed no sign of the problem when he returned to the court to wrap up victory in two hours 45 minutes.\\n\\nAncic, Wimbledon semi-finalist in 2004, looked set to push Safin all the way when he took the second set but Safin raised his game to sink the Croatian. Safin said he was trying to keep his temper under control at this year\\'s tournament. The Russian hit himself on the head repeatedly in one second-set outburst but was otherwise largely calm in his victory. \"I try to stay calm because if you go crazy against players like Ancic, you might never come back because he\\'s a tough opponent,\" he said. \"I\\'m a little bit calmer than I was before because I\\'d had enough.\" The Russian added that he was not worried by his ankle injury. \"I have had a lot of problems with that ankle before - it will be OK,\" he said.\\n\\n\\'s route to the fourth round was made easy when opponent Jarkko Nieminen was forced to retire from their match.\\n\\nThe top seed and defending champion was leading 6-3 5-2 when Nieminen pulled out with an abdominal injury. Federer had been in patchy form until then - mixing 19 unforced errors with 19 winners. The world number one will play Cypriot\\n\\nnext after the former world junior champion beat Tommy Robredo 7-6 (7-2) 6-4 6-1. Federer admitted he was under extra pressure after extending his winning streak to a career-best 24. \"They are so used to me winning, but it\\'s not that simple,\" he said. \"I had a feeling this could be a tough match. I had a bad start but I bounced back. I always want to play better than I am, but I thought I was pretty OK.\" French Open champion\\n\\nis out of the tournament after a five-set defeat by Dominik Hrbaty. Hrbaty defeated the 10th seed 7-6 (7-5) 6-7 (8-10) 6-7 (3-7) 6-1 6-3 in a match lasting four hours and 21 minutes. The pair traded 16 service breaks during an exhausting baseline battle, with Hrbaty taking a decisive advantage in the eighth game of the final set. Hrbaty will now play 2002 champion\\n\\n, who outlasted American Kevin Kim 3-6 6-2 6-7 6-2 6-2.\\n\\n'"
            ],
            "application/vnd.google.colaboratory.intrinsic+json": {
              "type": "string"
            }
          },
          "metadata": {}
        },
        {
          "output_type": "display_data",
          "data": {
            "text/plain": [
              "' . . . '"
            ],
            "application/vnd.google.colaboratory.intrinsic+json": {
              "type": "string"
            }
          },
          "metadata": {}
        },
        {
          "output_type": "display_data",
          "data": {
            "text/plain": [
              "'User Question:'"
            ],
            "application/vnd.google.colaboratory.intrinsic+json": {
              "type": "string"
            }
          },
          "metadata": {}
        },
        {
          "output_type": "display_data",
          "data": {
            "text/plain": [
              "\"What's happening in sports?\""
            ],
            "application/vnd.google.colaboratory.intrinsic+json": {
              "type": "string"
            }
          },
          "metadata": {}
        },
        {
          "output_type": "display_data",
          "data": {
            "text/plain": [
              "'--------------------------------'"
            ],
            "application/vnd.google.colaboratory.intrinsic+json": {
              "type": "string"
            }
          },
          "metadata": {}
        },
        {
          "output_type": "display_data",
          "data": {
            "text/plain": [
              "'Gemini Answer:'"
            ],
            "application/vnd.google.colaboratory.intrinsic+json": {
              "type": "string"
            }
          },
          "metadata": {}
        },
        {
          "output_type": "display_data",
          "data": {
            "text/plain": [
              "\"## Sports News in 2004:\\n\\n**Athletics:**\\n\\n* **Kelly Holmes:** Won gold in the 800m and 1500m at the Athens Olympics, becoming the first Briton to achieve the Olympic middle-distance double in 84 years.\\n* **Paula Radcliffe:** Dropped out of the marathon and 10,000m at the Athens Olympics due to exhaustion. However, she won the New York Marathon in November.\\n* **British men's 4x100m relay team:** Won gold at the Athens Olympics, their first relay medal since 1912.\\n* **Kelly Sotherton:** Won bronze in the heptathlon at the Athens Olympics.\\n* **Steve Backley:** Retired from javelin throwing after finishing fourth at the Athens Olympics.\\n* **Dean Macey:** Returned from injury to finish fourth in the decathlon at the Athens Olympics.\\n* **Drugs scandals:** Several athletes were caught using performance-enhancing drugs, including Kenteris, Thanou, Annus, Fazelas, Korzhanenko, Chambers, and White.\\n\\n**Other sports:**\\n\\n* **Hicham El Guerrouj:** Won gold in the 1500m and 5,000m at the Athens Olympics.\\n* **Evans Rutto and Margaret Okayo:** Won the men's and women's titles at the London Marathon.\\n* **Jade Johnson:** Won the long jump title at the Norwich Union European Indoor trials.\\n* **Paul Hession:** Won the men's 200m title at the Norwich Union European Indoor trials.\\n* **Chris Lambert:** Won the men's 60m hurdles title at the Norwich Union European Indoor trials.\\n* **Helen Clitheroe:** Won the women's 3,000m title at the Norwich Union European Indoor trials.\\n* **Robert Mitchell:** Won the men's high jump title at the British indoor championships.\\n* **Jason Gardener:** Won the 60m at the Leipzig International meeting.\\n* **Andrew Turner:** Set a new UK record of 7.98 seconds in the 60m hurdles at a meeting in Norway.\\n* **Phillips Idowu:** Set an indoor personal best of 16.50m in the triple jump at a meeting in Ghent.\\n* **Denise Lewis:** Withdrew from the heptathlon at the Athens Olympics due to injury.\\n* **Andre Agassi:** Reached the fourth round of the Australian Open.\\n* **Marat Safin:** Reached the fourth round of the Australian Open.\\n* **Roger Federer:** Reached the fourth round of the Australian Open.\\n* **Gaston Gaudio:** Won the French Open.\\n* **Roger Federer:** Won Wimbledon.\\n* **Maria Sharapova:** Won the Wimbledon women's singles title.\\n* **Lleyton Hewitt:** Won the US Open.\\n* **Svetlana Kuznetsova:** Won the US Open women's singles title.\\n\""
            ],
            "application/vnd.google.colaboratory.intrinsic+json": {
              "type": "string"
            }
          },
          "metadata": {}
        }
      ]
    }
  ],
  "metadata": {
    "kernelspec": {
      "display_name": "Python 3",
      "language": "python",
      "name": "python3"
    },
    "language_info": {
      "codemirror_mode": {
        "name": "ipython",
        "version": 3
      },
      "file_extension": ".py",
      "mimetype": "text/x-python",
      "name": "python",
      "nbconvert_exporter": "python",
      "pygments_lexer": "ipython3",
      "version": "3.10.10"
    },
    "colab": {
      "provenance": [],
      "name": "student-00-b09fb3375f72 (Dec 27, 2024, 12:27:12 PM)"
    }
  },
  "nbformat": 4,
  "nbformat_minor": 5
}